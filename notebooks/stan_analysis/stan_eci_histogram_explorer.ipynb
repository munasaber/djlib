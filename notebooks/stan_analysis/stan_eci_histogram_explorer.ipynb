{
 "cells": [
  {
   "cell_type": "code",
   "execution_count": 1,
   "metadata": {},
   "outputs": [
    {
     "name": "stdout",
     "output_type": "stream",
     "text": [
      "Populating the interactive namespace from numpy and matplotlib\n"
     ]
    }
   ],
   "source": [
    "get_ipython().run_line_magic('pylab', 'inline')\n"
   ]
  },
  {
   "cell_type": "code",
   "execution_count": 2,
   "metadata": {},
   "outputs": [
    {
     "ename": "ModuleNotFoundError",
     "evalue": "No module named 'tinc'",
     "output_type": "error",
     "traceback": [
      "\u001b[0;31m---------------------------------------------------------------------------\u001b[0m",
      "\u001b[0;31mModuleNotFoundError\u001b[0m                       Traceback (most recent call last)",
      "\u001b[0;32m/tmp/ipykernel_24798/2862205277.py\u001b[0m in \u001b[0;36m<module>\u001b[0;34m\u001b[0m\n\u001b[1;32m      1\u001b[0m \u001b[0;31m#from tinc import *\u001b[0m\u001b[0;34m\u001b[0m\u001b[0;34m\u001b[0m\u001b[0;34m\u001b[0m\u001b[0m\n\u001b[0;32m----> 2\u001b[0;31m \u001b[0;32mimport\u001b[0m \u001b[0mtinc\u001b[0m\u001b[0;34m\u001b[0m\u001b[0;34m\u001b[0m\u001b[0m\n\u001b[0m\u001b[1;32m      3\u001b[0m \u001b[0;32mimport\u001b[0m \u001b[0mos\u001b[0m\u001b[0;34m\u001b[0m\u001b[0;34m\u001b[0m\u001b[0m\n\u001b[1;32m      4\u001b[0m \u001b[0;32mimport\u001b[0m \u001b[0mnumpy\u001b[0m \u001b[0;32mas\u001b[0m \u001b[0mnp\u001b[0m\u001b[0;34m\u001b[0m\u001b[0;34m\u001b[0m\u001b[0m\n\u001b[1;32m      5\u001b[0m \u001b[0;32mimport\u001b[0m \u001b[0mdjlib\u001b[0m\u001b[0;34m.\u001b[0m\u001b[0mclex\u001b[0m \u001b[0;32mas\u001b[0m \u001b[0mcl\u001b[0m\u001b[0;34m\u001b[0m\u001b[0;34m\u001b[0m\u001b[0m\n",
      "\u001b[0;31mModuleNotFoundError\u001b[0m: No module named 'tinc'"
     ]
    }
   ],
   "source": [
    "#from tinc import *\n",
    "import tinc\n",
    "import os\n",
    "import numpy as np\n",
    "import djlib.clex as cl\n",
    "import djlib as dj\n",
    "from scipy.spatial import ConvexHull\n",
    "import cupy as cp\n",
    "import pickle\n",
    "import matplotlib.pyplot as plt"
   ]
  },
  {
   "cell_type": "code",
   "execution_count": null,
   "metadata": {},
   "outputs": [],
   "source": [
    "from IPython.core.display import display, HTML\n"
   ]
  },
  {
   "cell_type": "code",
   "execution_count": null,
   "metadata": {},
   "outputs": [],
   "source": [
    "#Set up tinc stuff to let us view the ECI histogram plots later\n",
    "eci_index = tinc.Parameter(\"eci_index\", \"index\")\n",
    "eci_index.values = np.array(list(range(253)))\n",
    "graph_buffer = tinc.DiskBufferImage(\"graph\", \"out.png\", \"eci_hist_images\")\n",
    "ps = tinc.ParameterSpace(\"ps\")\n",
    "ps.register_parameters([eci_index])\n",
    "ps.enable_cache()"
   ]
  },
  {
   "cell_type": "code",
   "execution_count": null,
   "metadata": {},
   "outputs": [],
   "source": [
    "datafile = 'STAN_executable.pkl'\n",
    "with open('STAN_executable.pkl', 'rb') as f:\n",
    "    eci_set = pickle.load(f)\n",
    "    eci_set = np.array(eci_set['eci'])\n",
    "    eci_set = np.transpose(eci_set)\n",
    "eci_set.shape"
   ]
  },
  {
   "cell_type": "code",
   "execution_count": null,
   "metadata": {},
   "outputs": [],
   "source": [
    "#Code to make ECI histograms through tinc. \n",
    "def make_graph(eci_index):\n",
    "    eci_hist_selection = eci_set[:,int(eci_index)]\n",
    "    fig = cl.plot_eci_hist(eci_hist_selection)\n",
    "    fig.set_size_inches(18, 10)\n",
    "    #plt.axvline(x=lasso_eci[int(eci_index)], linewidth=5)\n",
    "    fig = plt.gcf()\n",
    "    image_path = os.path.join(\"/mnt/DATA/Braid_Backup/munasaber/NiobiumOxides/TiNb2O7/Correct_Encut_CASM_LixTiNb2O7_LowestEnergy/HistogramMonteCarloCode/STAN/eci_hist_images\n",
    "/\", 'eci_index_%d.png'%(eci_index))\n",
    "    fig.savefig(image_path)\n",
    "    file = open(image_path, 'rb')\n",
    "    return file.read()\n",
    "\n",
    "\n",
    "def value_changed(value):\n",
    "    imagedata = ps.run_process(make_graph)\n",
    "    graph_buffer.data = imagedata\n",
    "\n",
    "eci_index.register_callback(value_changed)"
   ]
  },
  {
   "cell_type": "code",
   "execution_count": null,
   "metadata": {},
   "outputs": [],
   "source": [
    "#Tinc stuff to visualize the ECI histograms.\n",
    "from ipywidgets import Button, HBox, VBox\n",
    "box = VBox([eci_index.interactive_widget(), eci_index.interactive_control(), graph_buffer.interactive_widget()])\n",
    "graph_buffer._interactive_widget.width = \"80%\"\n",
    "box"
   ]
  }
 ],
 "metadata": {
  "interpreter": {
   "hash": "e7f8c89180b1b01809ebef4d09a4b295f9e97d7edb55f9d07ba3341339b679cd"
  },
  "kernelspec": {
   "display_name": "Python 3 (ipykernel)",
   "language": "python",
   "name": "python3"
  },
  "language_info": {
   "codemirror_mode": {
    "name": "ipython",
    "version": 3
   },
   "file_extension": ".py",
   "mimetype": "text/x-python",
   "name": "python",
   "nbconvert_exporter": "python",
   "pygments_lexer": "ipython3",
   "version": "3.7.11"
  }
 },
 "nbformat": 4,
 "nbformat_minor": 2
}
