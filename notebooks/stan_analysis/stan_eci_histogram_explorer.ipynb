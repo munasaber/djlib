{
 "cells": [
  {
   "cell_type": "code",
   "execution_count": 1,
   "metadata": {},
   "outputs": [
    {
     "name": "stdout",
     "output_type": "stream",
     "text": [
      "3.9.7\n",
      "%pylab is deprecated, use %matplotlib inline and import the required libraries.\n",
      "Populating the interactive namespace from numpy and matplotlib\n"
     ]
    }
   ],
   "source": [
    "from platform import python_version\n",
    "print(python_version())\n",
    "get_ipython().run_line_magic('pylab', 'inline')\n"
   ]
  },
  {
   "cell_type": "code",
   "execution_count": 2,
   "metadata": {},
   "outputs": [],
   "source": [
    "#from tinc import *\n",
    "import tinc\n",
    "import os\n",
    "import numpy as np\n",
    "import djlib.clex as cl\n",
    "import djlib as dj\n",
    "from scipy.spatial import ConvexHull\n",
    "import pickle\n",
    "import matplotlib.pyplot as plt\n",
    "from tinc import *"
   ]
  },
  {
   "cell_type": "code",
   "execution_count": 3,
   "metadata": {},
   "outputs": [
    {
     "name": "stderr",
     "output_type": "stream",
     "text": [
      "/tmp/ipykernel_12074/3492823427.py:1: DeprecationWarning: Importing display from IPython.core.display is deprecated since IPython 7.14, please import from IPython display\n",
      "  from IPython.core.display import display, HTML\n"
     ]
    }
   ],
   "source": [
    "from IPython.core.display import display, HTML\n"
   ]
  },
  {
   "cell_type": "code",
   "execution_count": 4,
   "metadata": {},
   "outputs": [
    {
     "name": "stdout",
     "output_type": "stream",
     "text": [
      "Validating json with /home/muna/.local/conda/envs/py397/lib/python3.9/site-packages/tinc-0.9.53-py3.9.egg/tinc/tinc_cache_schema.json\n"
     ]
    }
   ],
   "source": [
    "#Set up tinc stuff to let us view the ECI histogram plots later\n",
    "eci_index = tinc.Parameter(\"eci_index\", \"index\")\n",
    "eci_index.values = np.array(list(range(253)))\n",
    "graph_buffer = tinc.DiskBufferImage(\"graph\", \"out.png\", \"eci_hist_images\")\n",
    "ps = tinc.ParameterSpace(\"ps\")\n",
    "ps.register_parameters([eci_index])\n",
    "ps.enable_cache()"
   ]
  },
  {
   "cell_type": "code",
   "execution_count": 5,
   "metadata": {},
   "outputs": [
    {
     "data": {
      "text/plain": [
       "(500, 430)"
      ]
     },
     "execution_count": 5,
     "metadata": {},
     "output_type": "execute_result"
    }
   ],
   "source": [
    "datafile = '/mnt/DATA/Braid_Backup/munasaber/NiobiumOxides/TiNb2O7/Correct_Encut_CASM_LixTiNb2O7_LowestEnergy/HistogramMonteCarloCode/STAN/alpha_b_10_beta_b_16p66/STAN_executable.pkl'\n",
    "with open(datafile, 'rb') as f:\n",
    "    eci_set = pickle.load(f)\n",
    "    eci_set = np.array(eci_set['eci'])\n",
    "    eci_set = np.transpose(eci_set)\n",
    "eci_set.shape"
   ]
  },
  {
   "cell_type": "code",
   "execution_count": 6,
   "metadata": {},
   "outputs": [],
   "source": [
    "#Code to make ECI histograms through tinc. \n",
    "def make_graph(eci_index):\n",
    "    eci_hist_selection = eci_set[:,int(eci_index)]\n",
    "    fig = cl.plot_eci_hist(eci_hist_selection)\n",
    "    fig.set_size_inches(18, 10)\n",
    "    #plt.axvline(x=lasso_eci[int(eci_index)], linewidth=5)\n",
    "    fig = plt.gcf()\n",
    "    image_path = os.path.join(\"/mnt/DATA/Braid_Backup/munasaber/NiobiumOxides/TiNb2O7/Correct_Encut_CASM_LixTiNb2O7_LowestEnergy/HistogramMonteCarloCode/STAN/alpha_b_10_beta_b_16p66/eci_hist_images/\", 'eci_index_%d.png'%(eci_index))\n",
    "    fig.savefig(image_path)\n",
    "    file = open(image_path, 'rb')\n",
    "    return file.read()\n",
    "\n",
    "\n",
    "def value_changed(value):\n",
    "    imagedata = ps.run_process(make_graph)\n",
    "    graph_buffer.data = imagedata\n",
    "\n",
    "eci_index.register_callback(value_changed)"
   ]
  },
  {
   "cell_type": "code",
   "execution_count": 7,
   "metadata": {},
   "outputs": [
    {
     "name": "stderr",
     "output_type": "stream",
     "text": [
      "Widget Javascript not detected.  It may not be installed or enabled properly.\n"
     ]
    },
    {
     "data": {
      "application/vnd.jupyter.widget-view+json": {
       "model_id": "35e9bf4fe6d149a0ae57fe4be39071ac"
      }
     },
     "metadata": {},
     "output_type": "display_data"
    }
   ],
   "source": [
    "#Tinc stuff to visualize the ECI histograms.\n",
    "from ipywidgets import Button, HBox, VBox\n",
    "box = VBox([eci_index.interactive_widget(), eci_index.interactive_control(), graph_buffer.interactive_widget()])\n",
    "graph_buffer._interactive_widget.width = \"80%\"\n",
    "box"
   ]
  },
  {
   "cell_type": "code",
   "execution_count": null,
   "metadata": {},
   "outputs": [],
   "source": []
  },
  {
   "cell_type": "code",
   "execution_count": null,
   "metadata": {},
   "outputs": [],
   "source": []
  },
  {
   "cell_type": "code",
   "execution_count": null,
   "metadata": {},
   "outputs": [],
   "source": []
  }
 ],
 "metadata": {
  "interpreter": {
   "hash": "e7f8c89180b1b01809ebef4d09a4b295f9e97d7edb55f9d07ba3341339b679cd"
  },
  "kernelspec": {
   "display_name": "Python 3 (ipykernel)",
   "language": "python",
   "name": "python3"
  },
  "language_info": {
   "codemirror_mode": {
    "name": "ipython",
    "version": 3
   },
   "file_extension": ".py",
   "mimetype": "text/x-python",
   "name": "python",
   "nbconvert_exporter": "python",
   "pygments_lexer": "ipython3",
   "version": "3.9.7"
  }
 },
 "nbformat": 4,
 "nbformat_minor": 2
}
